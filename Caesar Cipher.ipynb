{
 "cells": [
  {
   "cell_type": "code",
   "execution_count": 2,
   "id": "8bc507d9",
   "metadata": {},
   "outputs": [
    {
     "name": "stdout",
     "output_type": "stream",
     "text": [
      "Requirement already satisfied: pyperclip in f:\\softwares\\python\\lib\\site-packages (1.8.2)\n",
      "Enter the message to encode/decode s97gph9efhe9z\n",
      "To encode type 'encrypt'and to decode type 'decrypt' decrypt\n",
      "fvtTcUvRSURvm\n"
     ]
    }
   ],
   "source": [
    "!pip install pyperclip\n",
    "#6nyynzJnnyrx8zJznzJ0ur5rJv6J!285Juvwno\n",
    "import pyperclip\n",
    "message=input(\"Enter the message to encode/decode \")\n",
    "key=13\n",
    "mode=input(\"To encode type 'encrypt'and to decode type 'decrypt' \")\n",
    "SYMBOLS=\"ABCDEFGHIJKLMNOPQRSTUVWXYZabcdefghijklmnopqrstuvwxyz1234567890 !?.\"\n",
    "translated = ''\n",
    "for symbol in message:\n",
    "    if symbol in SYMBOLS:\n",
    "        symbolindex=SYMBOLS.find(symbol)\n",
    "        if mode==\"encrypt\":\n",
    "            translatedindex=symbolindex+key\n",
    "        elif mode==\"decrypt\":\n",
    "            translatedindex=symbolindex-key\n",
    "        if translatedindex>=len(SYMBOLS):\n",
    "            translatedindex=translatedindex-len(SYMBOLS)\n",
    "        elif translatedindex<0:\n",
    "            translatedindex=translatedindex+len(SYMBOLS)\n",
    "        translated=translated+SYMBOLS[translatedindex]\n",
    "    else:\n",
    "        translated= translated+symbol\n",
    "print(translated)\n",
    "pyperclip.copy(translated)\n",
    "\n",
    "            "
   ]
  }
 ],
 "metadata": {
  "kernelspec": {
   "display_name": "Python 3",
   "language": "python",
   "name": "python3"
  },
  "language_info": {
   "codemirror_mode": {
    "name": "ipython",
    "version": 3
   },
   "file_extension": ".py",
   "mimetype": "text/x-python",
   "name": "python",
   "nbconvert_exporter": "python",
   "pygments_lexer": "ipython3",
   "version": "3.8.8"
  }
 },
 "nbformat": 4,
 "nbformat_minor": 5
}
